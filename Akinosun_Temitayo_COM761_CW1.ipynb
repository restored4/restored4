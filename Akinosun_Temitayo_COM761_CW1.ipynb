{
 "cells": [
  {
   "cell_type": "markdown",
   "metadata": {},
   "source": [
    "# COM761 Machine Learning Coursework 1\n",
    "### 2022/23"
   ]
  },
  {
   "cell_type": "markdown",
   "metadata": {},
   "source": [
    "**<font color=red>Deadline: 12:00 noon, Friday 4th November 2022</font>**\n",
    "\n",
    "**<font color=red>This is an individual assignment: University regulations on plagiarism will apply.</font>**\n",
    "\n",
    "**This piece of CW is worth 40\\% of your overall mark for COM761.**\n",
    "  \n",
    "**The total number of marks available in this assignment is 40.**\n",
    "\n",
    "**Enter your solutions directly into this Jupyter notebook.**\n",
    "\n",
    "For each question, you should provide your answer **in the cell immediately below the question**.\n",
    "\n",
    "If a question requires a **numerical answer**, your cell should include python code carrying out the relevant calculations, and include a `print` statement to make clear what your answer to the question is. \n",
    "\n",
    "If a question requires a **graphical plot**, your cell should include python code that results in the required plot being printed to screen.\n",
    "\n",
    "**You need to submit BOTH of the following via Blackboard before the deadline:**\n",
    "  1. **This Jupyter notebook (containing your solutions), AND**\n",
    "  2. **A pdf of this Jupyter notebook (containing your solutions).**\n",
    "  \n",
    " You can convert your Jupyter notebook to pdf by:\n",
    " - printing directly from your browser to pdf\n",
    " - if the above does not work in your browser, go to File-> Download As... -> HTML (.html). Then open the html file in Google chrome, and print from chrome to pdf."
   ]
  },
  {
   "cell_type": "markdown",
   "metadata": {},
   "source": [
    "# Question 1 \n",
    "### Application of Multiple Linear Regression\n",
    "#### Total marks for question: 10\n",
    "\n",
    "Download `physical.txt` from http://www.statsci.org/data/oz/physical.html\n",
    "\n",
    "(Note that the first row of this text file contains header information, i.e. the names of the variables.)\n",
    "\n",
    "Throughout this question, you can use functions from `scikit-learn`.\n",
    "\n",
    "**Use all the data for training - you do not need to construct a validation set.**\n",
    "\n",
    "**(a)** Build a least squares multiple linear regression model to predict *mass* from the other ten attributes (*fore*, *bicep*, etc). Print out the weights (coefficients and intercept) for the model. **[2 marks]**\n",
    "\n",
    "**(b)** Suppose you wish to reduce your model down to using only *one* feature $x$. Use recursive feature elimination from scikit-learn to determine which feature you should use.  **[2 marks]**\n",
    "\n",
    "**(c)** Using the feature $x$ from **(b)**, construct a polynomial regression model of the form: \n",
    "\n",
    "\\begin{equation}\n",
    " f(\\mathbf{x}) = w_0 + w_1 x + w_2 x^2\n",
    "\\end{equation}\n",
    "\n",
    "Print out the weights for this model. **[3 marks]**\n",
    "\n",
    "**(d)** Plot the polynomial regression model from **(c)**. **[3 marks]**\n"
   ]
  },
  {
   "cell_type": "code",
   "execution_count": 2,
   "metadata": {},
   "outputs": [
    {
     "name": "stdout",
     "output_type": "stream",
     "text": [
      "The model weights are:\n",
      "Coefficients: =\n",
      " [ 1.78181867  0.1550904   0.18913544 -0.48183705 -0.02931235  0.66144124\n",
      "  0.31784645  0.44589018  0.29721231 -0.91956267]\n",
      "Intercept (w0) =\n",
      " -69.51713511860504\n"
     ]
    }
   ],
   "source": [
    "## Enter code for part (a) below [2 marks]\n",
    "\n",
    "# Importing relevant modules\n",
    "import numpy as np\n",
    "import matplotlib.pyplot as plt\n",
    "from sklearn.linear_model import LinearRegression\n",
    "from sklearn import metrics\n",
    "\n",
    "# Downloading the data (phy_Data) from the physical.txt file\n",
    "phy_Data = np.loadtxt('physical.txt', skiprows=1)\n",
    "\n",
    "x = phy_Data[:,1:]      # Slicing the other 10 features\n",
    "y = phy_Data[:,0]       # Slicing the target feature (mass)\n",
    "\n",
    "mult_lin_reg_model = LinearRegression()          # the multiple linear regression model\n",
    "mult_lin_reg_model.fit(x,y)                      # fitting the model to the data\n",
    "\n",
    "\n",
    "print('The model weights are:')\n",
    "print('Coefficients: =\\n', mult_lin_reg_model.coef_)\n",
    "print('Intercept (w0) =\\n', mult_lin_reg_model.intercept_)"
   ]
  },
  {
   "cell_type": "code",
   "execution_count": 4,
   "metadata": {},
   "outputs": [
    {
     "data": {
      "text/plain": [
       "array([ True, False, False, False, False, False, False, False, False,\n",
       "       False])"
      ]
     },
     "execution_count": 4,
     "metadata": {},
     "output_type": "execute_result"
    }
   ],
   "source": [
    "## Enter code for part (b) below [2 marks]\n",
    "\n",
    "# Importing Recursive Feature Elimination (RFE) and Support Vector Regression (SVR) from sklearn\n",
    "from sklearn.feature_selection import RFE\n",
    "from sklearn.svm import SVR\n",
    "\n",
    "reg_estimator = SVR(kernel=\"linear\")      # reg_estimator represents SVR estimator\n",
    "preferred_feature = RFE(reg_estimator, n_features_to_select=1, step=1)  # Selecting one feature only\n",
    "preferred_feature = preferred_feature.fit(x,y)\n",
    "preferred_feature.support_         # The output is a boolean array indicating (True) for 'forearm' as the selected feature"
   ]
  },
  {
   "cell_type": "code",
   "execution_count": 5,
   "metadata": {},
   "outputs": [
    {
     "name": "stdout",
     "output_type": "stream",
     "text": [
      "Weights of  the model =\n",
      " [[  0.         -19.94154645   0.45492884]]\n",
      "Intercept (w0) =\n",
      " [275.26547107]\n"
     ]
    }
   ],
   "source": [
    "## Enter code for part (c) below [3 marks]\n",
    "\n",
    "# Importing 'Polynomial Features' for polynomial regression model\n",
    "from sklearn.preprocessing import PolynomialFeatures\n",
    "\n",
    "feature_x = phy_Data[:,1][:,None]      # 'feature_x represents 'forearm' '\n",
    "y_poly = phy_Data[:,0][:,None]         # 'y_poly' represents 'mass' as the target feature \n",
    "\n",
    "poly = PolynomialFeatures(degree = 2)\n",
    "X = poly.fit_transform(feature_x)\n",
    "\n",
    "poly.fit(X, y_poly)\n",
    "lin_model2 = LinearRegression()\n",
    "lin_model2.fit(X, y_poly)\n",
    "print('Weights of  the model =\\n', lin_model2.coef_)\n",
    "print('Intercept (w0) =\\n', lin_model2.intercept_)"
   ]
  },
  {
   "cell_type": "code",
   "execution_count": 9,
   "metadata": {},
   "outputs": [
    {
     "name": "stdout",
     "output_type": "stream",
     "text": [
      "Model Weights =\n",
      " [  0.45492884 -19.94154645 275.26547107]\n"
     ]
    }
   ],
   "source": [
    "## Alternatively, using the np.poly1d method from numpy\n",
    "poly_x = phy_Data[:,1]\n",
    "poly_y = phy_Data[:,0]\n",
    "np_polyModel = np.poly1d(np.polyfit(poly_x, poly_y, 2))\n",
    "\n",
    "print('Model Weights =\\n',np_polyModel.c)"
   ]
  },
  {
   "cell_type": "code",
   "execution_count": 10,
   "metadata": {},
   "outputs": [
    {
     "data": {
      "image/png": "[encoded data removed]",
      "text/plain": [
       "<Figure size 432x288 with 1 Axes>"
      ]
     },
     "metadata": {
      "needs_background": "light"
     },
     "output_type": "display_data"
    }
   ],
   "source": [
    "## Enter code for part (d) below [3 marks]\n",
    "\n",
    "poly_x_axis = np.linspace(22, 33, 100)\n",
    "\n",
    "plt.scatter(feature_x, y_poly)\n",
    "plt.xlabel('Forearm')\n",
    "plt.ylabel('Mass')\n",
    "plt.title('Polynomial Regression Model')\n",
    "plt.plot(poly_x_axis, np_polyModel(poly_x_axis))\n",
    "plt.show()"
   ]
  },
  {
   "cell_type": "markdown",
   "metadata": {},
   "source": [
    "# Question 2\n",
    "### The Normal Equation for Multiple Least Squares Linear Regression\n",
    "#### Total marks for question: 10\n",
    "\n",
    "The optimal coefficients for a least squares linear regression model $f(\\mathbf{x}) = \\mathbf{w}^T\\mathbf{x}$ can be derived analytically, by differentiating the mean squares cost function with respect to the weight and setting the derivative equal to zero [1].\n",
    "\n",
    "Doing this, the vector $\\hat{\\mathbf{w}}$ of weights that minimizes the mean squares cost function is given by the *normal equation*:\n",
    "\n",
    "\\begin{equation}\\hat{\\mathbf{w}} = (\\mathbf{X}^T\\mathbf{X})^{-1}\\mathbf{X}^T\\mathbf{y}\\end{equation}\n",
    "\n",
    "where $\\mathbf{X} = \\begin{bmatrix} \\mathbf{x}_1^T \\\\ \\mathbf{x}_2^T \\\\ \\vdots \\\\ \\mathbf{x}_N^T  \\end{bmatrix} = \\begin{bmatrix} 1 & x_1^{(1)} & x_2^{(1)} & \\ldots & x_n^{(1)} \\\\ 1 & x_1^{(2)} & x_2^{(2)} & \\ldots & x_n^{(2)} \\\\ \\vdots & \\vdots & \\vdots & \\ddots & \\vdots \\\\ 1 & x_1^{(N)} & x_2^{(N)} & \\ldots & x_n^{(N)}   \\end{bmatrix}$\n",
    "\n",
    "where $x_{i}^{(j)}$ is the $i$-th feature of example $j$.\n",
    "\n",
    "In this question, you are going to calculate the weights for the multiple linear regression model in Q1 (a), using the normal equation above.\n",
    "\n",
    "**(a)** Using the data in `physical.txt`, construct a vector $\\mathbf{y}$ that contains the values of *mass*, and a matrix $\\mathbf{X}$ that contains the values of the other ten attributes (*fore*, *bicep*, etc) for $x_i$ ($1 \\le i \\le 10$). **[3 marks]**\n",
    "\n",
    "**(b)** Write code to calculate the optimal weight vector $\\mathbf{\\hat{w}}$ from the normal equation above. **[5 marks]**\n",
    "\n",
    "**(c)** Print the value of $\\mathbf{\\hat{w}}$ to screen, and compare to the weights you obtained using `scikit-learn` for this model in Q1 (a) (i.e. are they the same or not?) **[2 marks]**\n",
    "\n",
    "\n",
    "[1] pp. 9-14, 22-27 of *A First Course in Machine Learning*, 2nd Edition."
   ]
  },
  {
   "cell_type": "code",
   "execution_count": 12,
   "metadata": {},
   "outputs": [
    {
     "name": "stdout",
     "output_type": "stream",
     "text": [
      "Matrix of 10 features:\n",
      " [[ 28.5  33.5 100.   38.5 114.   85.  178.   37.5  53.   58. ]\n",
      " [ 29.5  36.5 107.   39.  119.   90.5 187.   40.   52.   59. ]\n",
      " [ 25.   31.   94.   36.5 102.   80.5 175.   33.   49.   57. ]\n",
      " [ 28.5  34.  104.   39.  114.   91.5 183.   38.   50.   60. ]\n",
      " [ 28.5  36.5 107.   39.  114.   92.  174.   40.   53.   59. ]\n",
      " [ 30.5  38.  112.   39.  121.  101.  180.   39.5  57.5  59. ]\n",
      " [ 26.5  29.   93.   35.  105.   76.  177.5  38.5  50.   58.5]\n",
      " [ 27.   31.   95.   37.  108.   84.  182.5  36.   49.   60. ]\n",
      " [ 26.5  29.   93.   35.  112.   74.  178.5  34.   47.   55.5]\n",
      " [ 26.5  31.   96.   35.  103.   76.  168.5  35.   46.   58. ]\n",
      " [ 28.5  37.  109.5  39.  118.   80.  170.   38.   50.   58.5]\n",
      " [ 27.5  33.  102.   38.5 113.   86.  180.   36.   49.   59. ]\n",
      " [ 29.5  36.  101.   38.5 115.5  82.  186.5  38.   49.   60. ]\n",
      " [ 25.   30.   98.5  37.  108.   82.  188.   37.   49.5  57. ]\n",
      " [ 29.5  36.  103.   40.  117.   95.5 173.   37.   52.5  58. ]\n",
      " [ 26.5  32.5  89.   35.  104.5  81.  171.   38.   48.   56.5]\n",
      " [ 24.   30.   92.5  35.5 102.   76.  169.   32.   42.   57. ]\n",
      " [ 25.5  28.5  87.5  35.  109.   84.  181.   35.5  42.   58. ]\n",
      " [ 30.   34.5  99.   40.5 119.   88.  188.   39.   50.5  56. ]\n",
      " [ 28.   34.5  97.   37.  104.   82.  173.   38.   49.   58. ]\n",
      " [ 29.   35.5 106.   39.  118.   96.  179.   39.5  51.   58.5]\n",
      " [ 31.   33.5 106.   39.  120.   99.5 184.   42.   55.   57. ]]\n",
      "Vector of Mass values:\n",
      " [77.  85.5 63.  80.5 79.5 94.  66.  69.  65.  58.  69.5 73.  74.  68.\n",
      " 80.  66.  54.5 64.  84.  73.  89.  94. ]\n"
     ]
    }
   ],
   "source": [
    "## Enter code for part (a) below [3 marks]\n",
    "\n",
    "# Matrix containing the values of the other 10 features\n",
    "x = phy_Data[:,1:]\n",
    "print('Matrix of 10 features:\\n', x)\n",
    "\n",
    "# Vector containing the values of Mass\n",
    "y = phy_Data[:,0]\n",
    "print('Vector of Mass values:\\n', y)\n"
   ]
  },
  {
   "cell_type": "code",
   "execution_count": 14,
   "metadata": {},
   "outputs": [
    {
     "name": "stdout",
     "output_type": "stream",
     "text": [
      "X with column of 1s:\n",
      " [[  1.   28.5  33.5 100.   38.5 114.   85.  178.   37.5  53.   58. ]\n",
      " [  1.   29.5  36.5 107.   39.  119.   90.5 187.   40.   52.   59. ]\n",
      " [  1.   25.   31.   94.   36.5 102.   80.5 175.   33.   49.   57. ]\n",
      " [  1.   28.5  34.  104.   39.  114.   91.5 183.   38.   50.   60. ]\n",
      " [  1.   28.5  36.5 107.   39.  114.   92.  174.   40.   53.   59. ]\n",
      " [  1.   30.5  38.  112.   39.  121.  101.  180.   39.5  57.5  59. ]\n",
      " [  1.   26.5  29.   93.   35.  105.   76.  177.5  38.5  50.   58.5]\n",
      " [  1.   27.   31.   95.   37.  108.   84.  182.5  36.   49.   60. ]\n",
      " [  1.   26.5  29.   93.   35.  112.   74.  178.5  34.   47.   55.5]\n",
      " [  1.   26.5  31.   96.   35.  103.   76.  168.5  35.   46.   58. ]\n",
      " [  1.   28.5  37.  109.5  39.  118.   80.  170.   38.   50.   58.5]\n",
      " [  1.   27.5  33.  102.   38.5 113.   86.  180.   36.   49.   59. ]\n",
      " [  1.   29.5  36.  101.   38.5 115.5  82.  186.5  38.   49.   60. ]\n",
      " [  1.   25.   30.   98.5  37.  108.   82.  188.   37.   49.5  57. ]\n",
      " [  1.   29.5  36.  103.   40.  117.   95.5 173.   37.   52.5  58. ]\n",
      " [  1.   26.5  32.5  89.   35.  104.5  81.  171.   38.   48.   56.5]\n",
      " [  1.   24.   30.   92.5  35.5 102.   76.  169.   32.   42.   57. ]\n",
      " [  1.   25.5  28.5  87.5  35.  109.   84.  181.   35.5  42.   58. ]\n",
      " [  1.   30.   34.5  99.   40.5 119.   88.  188.   39.   50.5  56. ]\n",
      " [  1.   28.   34.5  97.   37.  104.   82.  173.   38.   49.   58. ]\n",
      " [  1.   29.   35.5 106.   39.  118.   96.  179.   39.5  51.   58.5]\n",
      " [  1.   31.   33.5 106.   39.  120.   99.5 184.   42.   55.   57. ]]\n"
     ]
    }
   ],
   "source": [
    "## Enter code for part (b) below [5 marks]\n",
    "\n",
    "X = np.c_[(np.ones((22,1)),x)]      # Concatenating a column of 1s with x \n",
    "print('X with column of 1s:\\n', X)\n",
    "\n",
    "w_vector = np.linalg.inv(X.T.dot(X)).dot(X.T).dot(y)   # Codes implementing the optimal weights of the normal equation"
   ]
  },
  {
   "cell_type": "code",
   "execution_count": 15,
   "metadata": {},
   "outputs": [
    {
     "name": "stdout",
     "output_type": "stream",
     "text": [
      "Optimal Weight vector using Normal Equation:\n",
      " [-6.95171351e+01  1.78181867e+00  1.55090402e-01  1.89135439e-01\n",
      " -4.81837053e-01 -2.93123483e-02  6.61441244e-01  3.17846448e-01\n",
      "  4.45890184e-01  2.97212313e-01 -9.19562670e-01]\n"
     ]
    }
   ],
   "source": [
    "## Enter code and comment for part (c) below [2 marks]\n",
    "\n",
    "print('Optimal Weight vector using Normal Equation:\\n', w_vector)\n",
    "\n",
    "# Comment: Comparing these normal equation weights with the weights from Q1(a) shows that they are the same"
   ]
  },
  {
   "cell_type": "markdown",
   "metadata": {},
   "source": [
    "# Question 3\n",
    "### Experiments with Random search\n",
    "#### Total marks for question: 10\n",
    "\n",
    "In this question, you will use the `random_search` algorithm introduced in the lectures. The code is already provided in the cell below.\n",
    "\n",
    "**(a)** Write a function called `booth` that implements the *Booth function*:\n",
    "\n",
    "\\begin{equation}\n",
    "g(x_1,x_2) = (x_1 + 2x_2 - 7)^2 +(2x_1 + x_2 - 5)^2\n",
    "\\end{equation}\n",
    "\n",
    "This function should take in a numpy column vector representing $\\mathbf{x} = \\begin{bmatrix} x_1 \\\\ x_2 \\end{bmatrix}$ and return the value of $g(x_1,x_2)$. **[2 marks]**\n",
    "\n",
    "**(b)** Amend the `random_search` function to implement another option for `alpha_choice` called `decay`.  In this setting, alpha should be set to $\\alpha = e^{-k/5}$, where $e = 2.718281828\\ldots$ is the natural base. **[2 marks]**\n",
    "\n",
    "**(c)** Perform an experiment to investigate the effect of `alpha_choice` when optimizing the Booth function with the following settings:\n",
    "- Number of steps $K=50$\n",
    "- Number of random directions at each step $P=1000$  \n",
    "- Initial point $\\mathbf{w}^0 = \\begin{bmatrix} -2 \\\\ -2 \\end{bmatrix}$\n",
    "\n",
    "You should investigate three settings for $\\alpha$: fixed steplength of $\\alpha = 1$, 'diminishing' and 'decay'.\n",
    "\n",
    "Show the results from your experiments by plotting (on the same figure) the cost history (i.e. history of objective function values) against iteration number for the three settings of the random search. **[4 marks]**\n",
    "\n",
    "**(d)** Comment on the worst performing setting of the random search in **(c)**, giving an explanation of why it does not perform as well as the other two settings. **[2 marks]**\n",
    "\n",
    "\n"
   ]
  },
  {
   "cell_type": "code",
   "execution_count": 17,
   "metadata": {},
   "outputs": [],
   "source": [
    "## Enter code for part (a) below [2 marks]\n",
    "\n",
    "def booth(x):\n",
    "    return ((x[0]+(2*x[1])-7)**2) + (((2*x[0])+x[1]-5)**2)\n",
    "\n",
    "# random search function - ammend for part (b) [2 marks]\n",
    "\n",
    "import math     # To implement natural base function\n",
    "\n",
    "def random_search(g,alpha_choice,max_its,w,num_samples):\n",
    "    # run random search\n",
    "    weight_history = []         # container for weight history\n",
    "    cost_history = []           # container for corresponding cost function history\n",
    "    alpha = 0\n",
    "    for k in range(1,max_its+1):        \n",
    "        # check if diminishing steplength rule used\n",
    "        if alpha_choice == 'diminishing':\n",
    "            alpha = 1/float(k)\n",
    "        elif alpha_choice == 'decay':\n",
    "            alpha = math.exp(float(-k)/5)\n",
    "        else:\n",
    "            alpha = alpha_choice\n",
    "            \n",
    "        # record weights and cost evaluation\n",
    "        weight_history.append(w.T)\n",
    "        cost_history.append(g(w.T))\n",
    "        \n",
    "        # construct set of random unit directions\n",
    "        directions = np.random.randn(num_samples,np.size(w))\n",
    "        norms = np.sqrt(np.sum(directions*directions,axis = 1))[:,np.newaxis]\n",
    "        directions = directions/norms   \n",
    "        \n",
    "        ### pick best descent direction\n",
    "        # compute all new candidate points\n",
    "        w_candidates = w + alpha*directions\n",
    "        \n",
    "        # evaluate all candidates\n",
    "        evals = np.array([g(w_val.T) for w_val in w_candidates])\n",
    "\n",
    "        # if we find a real descent direction take the step in its direction\n",
    "        ind = np.argmin(evals)\n",
    "        if g(w_candidates[ind]) < g(w.T):\n",
    "            # pluck out best descent direction\n",
    "            d = directions[ind,:]\n",
    "        \n",
    "            # take step\n",
    "            w = w + alpha*d\n",
    "        \n",
    "    # record weights and cost evaluation\n",
    "    weight_history.append(w.T)\n",
    "    cost_history.append(g(w.T))\n",
    "    return weight_history,cost_history\n",
    "\n",
    "w_init = np.array([[0,0]])"
   ]
  },
  {
   "cell_type": "code",
   "execution_count": 18,
   "metadata": {},
   "outputs": [
    {
     "data": {
      "image/png": "[encoded data removed]",
      "text/plain": [
       "<Figure size 720x432 with 1 Axes>"
      ]
     },
     "metadata": {
      "needs_background": "light"
     },
     "output_type": "display_data"
    }
   ],
   "source": [
    "# Enter code for part (c) below [4 marks]\n",
    "\n",
    "# Investigating 3 settings for alpha using P = 1000, k = 50, and w = (0,0)\n",
    "wt_fx, fixed_alpha = random_search (g=booth,alpha_choice=1, max_its=50, w = w_init, num_samples = 1000)\n",
    "wt_dm, dmnshg_alpha = random_search (g=booth,alpha_choice='diminishing', max_its=50, w = w_init, num_samples = 1000)\n",
    "wt_dy, decay_alpha = random_search (g=booth,alpha_choice='decay', max_its=50, w = w_init, num_samples = 1000)\n",
    "\n",
    "iterations = np.linspace(2,10,51)\n",
    "plt.figure(figsize=(10,6))\n",
    "plt.plot(iterations,fixed_alpha, '-r')\n",
    "plt.plot(iterations,dmnshg_alpha, '-b')\n",
    "plt.plot(iterations,decay_alpha, '-y')\n",
    "plt.xlabel('Number of Steps (iterations)')\n",
    "plt.ylabel('Cost History')\n",
    "plt.title('Cost History against No. of Iteration ')\n",
    "plt.show()"
   ]
  },
  {
   "cell_type": "markdown",
   "metadata": {},
   "source": [
    "#Enter comment below for part (d); or alternatively type your answer into a new markdown cell\n",
    "\n",
    "## Comment\n",
    "The worst performing alpha setting is the fixed step-lenght setting (alpha = 1, shown with colour red in the graph)\n",
    "because it failed to use the diminishing step-lenght rule which shrinks the steplenght at every iteration in order to\n",
    "control the lenght of descent to the optimal weight that minimises the cost function [1]\n"
   ]
  },
  {
   "cell_type": "code",
   "execution_count": null,
   "metadata": {},
   "outputs": [],
   "source": []
  },
  {
   "cell_type": "markdown",
   "metadata": {},
   "source": [
    "# Question 4\n",
    "### Implementation of Mean Absolute Deviations Linear Regression\n",
    "#### Total marks for question: 10\n",
    "\n",
    "In the cell below you are given:\n",
    "- data stored in `x4` (feature) and `y4` (label)\n",
    "- code to compute the least squares cost function using this data\n",
    "- code for training a least squares linear regression model using this data\n",
    "\n",
    "**(a)** Implement code for the *Mean Absolute Deviation* (MAD) cost function, given by: \n",
    "\n",
    "$\\textrm{MAD}(\\mathbf{w}) = \\frac{1}{N}\\sum_{i=1}^N |y_i - \\textrm{model}(x_i,\\mathbf{w})|$\n",
    "\n",
    "where $N$ is the number of examples we are training from. **[3 marks]**\n",
    "\n",
    "**(b)** Use the random search algorithm from Q3 to find the weights $w_0, w_1$ that optimize the Mean Absolute Deviation for a simple linear regression model trained on the data stored in `x4` and `y4`. Print the values of the optimal model weights found using MAD. (Other than cost function, you should keep the settings passed to `random_search` the same as those used below for the least squares model). **[2 marks]**\n",
    "\n",
    "**(c)** On the same figure, plot the MAD model and the least-squares model (as well as the data), and comment on the cause of the difference in models. **[5 marks]**\n"
   ]
  },
  {
   "cell_type": "code",
   "execution_count": 19,
   "metadata": {},
   "outputs": [
    {
     "name": "stdout",
     "output_type": "stream",
     "text": [
      "model parameters found using least squares: [[-2.53612839]\n",
      " [-0.70764362]]\n",
      "The MAD model weights are: [[-0.98036366]\n",
      " [ 1.02763798]]\n"
     ]
    }
   ],
   "source": [
    "## Data for use in Q4\n",
    "x4 = np.array([[-0.372180347],[-0.630104555],[-1.150723051],[0.933616921],[-0.831975033],\n",
    "              [-1.656988490],[1.124082010],[-0.393019792],[-0.732695333],[0.452214528]])\n",
    "y4 = np.array([[-1.174803460],[-1.856390758],[-2.256630546],[-9.994548305],[-1.710868702],\n",
    "             [-2.682265692],[0.191515393],[-1.247013155],[-1.684018106],[-0.624466506]])\n",
    "\n",
    "# Code provided for Q4\n",
    "def model(x,w):\n",
    "    a = w[0] + w[1]*x[0]\n",
    "    return a\n",
    "\n",
    "def least_squares(w):\n",
    "    cost = 0\n",
    "    for i in range(len(x4)):\n",
    "        cost += (model(x4[i],w)-y4[i])**2\n",
    "\n",
    "    return cost/float(np.size(y4))\n",
    "\n",
    "# the next two lines find the optimal weights for the simple linear regression model using mean squared error\n",
    "w_init = np.array([[0,0]])\n",
    "wh_MSE,sh1_MSE = random_search(g=least_squares,alpha_choice='diminishing',max_its=50,w=w_init,num_samples=1000)\n",
    "print('model parameters found using least squares:',wh_MSE[-1])\n",
    "\n",
    "## Enter code for part (a) below [3 marks]\n",
    "\n",
    "def mean_abs_devtn(w):\n",
    "    cost_mad = 0\n",
    "    for i in range(len(x4)):\n",
    "        cost_mad += abs(model(x4[i],w)-y4[i])\n",
    "    \n",
    "    return cost_mad/float(np.size(y4))\n",
    "\n",
    "\n",
    "## Enter code for part (b) below [2 marks]\n",
    "\n",
    "w_init = np.array([[0,0]])\n",
    "wt_MAD, s1_MAD = random_search(g=mean_abs_devtn,alpha_choice='diminishing',max_its=50,w=w_init,num_samples=1000)\n",
    "print('The MAD model weights are:', wt_MAD[-1])"
   ]
  },
  {
   "cell_type": "code",
   "execution_count": 20,
   "metadata": {},
   "outputs": [
    {
     "data": {
      "image/png": "[encoded data removed]",
      "text/plain": [
       "<Figure size 432x288 with 1 Axes>"
      ]
     },
     "metadata": {
      "needs_background": "light"
     },
     "output_type": "display_data"
    }
   ],
   "source": [
    "## Enter code and comment for part (c) below [5 marks]\n",
    "\n",
    "x_its = np.arange(0,51)\n",
    "plt.plot(x_its[0:],s1_MAD[0:],'-r')       # Mean absolute deviation plot\n",
    "plt.plot(x_its[0:],sh1_MSE[0:], '-b')     # Least squares plot\n",
    "plt.xlabel('Iteration number')\n",
    "plt.ylabel('Cost function g(w)')\n",
    "plt.show()\n",
    "\n"
   ]
  },
  {
   "cell_type": "markdown",
   "metadata": {},
   "source": [
    "### Comment on the graph\n",
    "The difference in the MAD model and Least squares model is because the Absolute Error approach (MAD) minimizes the effect\n",
    "of large errors on model (error due to outliers); that is, more robust than the Least squares approach in searching for optimal weight that minimizes the loss function. [1]"
   ]
  },
  {
   "cell_type": "markdown",
   "metadata": {},
   "source": [
    "## Reference\n",
    "\n",
    "[1] Hawe, G 2022, Learning Materials Week Three: Optimization 1, lecture slides, \n",
    "    Machine Learning COM761, Ulster University, delivered 13 October 2022."
   ]
  }
 ],
 "metadata": {
  "kernelspec": {
   "display_name": "Python 3 (ipykernel)",
   "language": "python",
   "name": "python3"
  },
  "language_info": {
   "codemirror_mode": {
    "name": "ipython",
    "version": 3
   },
   "file_extension": ".py",
   "mimetype": "text/x-python",
   "name": "python",
   "nbconvert_exporter": "python",
   "pygments_lexer": "ipython3",
   "version": "3.9.12"
  }
 },
 "nbformat": 4,
 "nbformat_minor": 4
}
